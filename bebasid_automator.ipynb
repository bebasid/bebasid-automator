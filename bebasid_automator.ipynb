{
  "nbformat": 4,
  "nbformat_minor": 0,
  "metadata": {
    "colab": {
      "provenance": []
    },
    "kernelspec": {
      "name": "python3",
      "display_name": "Python 3"
    },
    "language_info": {
      "name": "python"
    }
  },
  "cells": [
    {
      "cell_type": "markdown",
      "source": [
        "# BEBASID AUTOMATOR DOMAIN SCANNER"
      ],
      "metadata": {
        "id": "jgjLpfqg55Vy"
      }
    },
    {
      "cell_type": "markdown",
      "source": [
        "**Initialize**"
      ],
      "metadata": {
        "id": "q7E3jUqV2lzC"
      }
    },
    {
      "cell_type": "code",
      "source": [
        "!curl -LO https://github.com/findomain/findomain/releases/latest/download/findomain-linux.zip\n",
        "!unzip findomain-linux.zip\n",
        "!chmod +x findomain\n",
        "!sudo mv findomain /usr/bin/findomain\n",
        "\n",
        "!wget https://raw.githubusercontent.com/bebasid/bebasid/master/dev/scripts/scan.py\n",
        "\n",
        "!echo \"INSTALLATION DONE - ALL SET\""
      ],
      "metadata": {
        "id": "r1PdqyEf3F-D"
      },
      "execution_count": null,
      "outputs": []
    },
    {
      "cell_type": "markdown",
      "source": [
        "**Findomain**"
      ],
      "metadata": {
        "id": "-5u6VBw3atFf"
      }
    },
    {
      "cell_type": "code",
      "source": [
        "!findomain -f domainlist -r -u subdomainlist"
      ],
      "metadata": {
        "id": "42W-ig3TZ3ff"
      },
      "execution_count": null,
      "outputs": []
    },
    {
      "cell_type": "markdown",
      "source": [
        "**Sort**"
      ],
      "metadata": {
        "id": "nPp5wpi361-y"
      }
    },
    {
      "cell_type": "code",
      "source": [
        "with open(\"subdomainlist\", \"r\") as file:\n",
        "    lines = file.readlines()\n",
        "\n",
        "domain_dict = {}\n",
        "for line in lines:\n",
        "    subdomain = line.strip()\n",
        "    domain = subdomain.split(\".\")[-2] + \".\" + subdomain.split(\".\")[-1]\n",
        "    if domain not in domain_dict:\n",
        "        domain_dict[domain] = []\n",
        "    domain_dict[domain].append(subdomain)\n",
        "\n",
        "for domain in domain_dict:\n",
        "    domain_dict[domain].sort(key=len)\n",
        "\n",
        "sorted_subdomains = []\n",
        "for domain in sorted(domain_dict.keys()):\n",
        "    sorted_subdomains.extend(domain_dict[domain])\n",
        "\n",
        "with open(\"subdomainlist_sorted\", \"w\") as file:\n",
        "    file.write(\"\\n\".join(sorted_subdomains))"
      ],
      "metadata": {
        "id": "Ih5kcuyW634O"
      },
      "execution_count": 6,
      "outputs": []
    },
    {
      "cell_type": "markdown",
      "source": [
        "**Run Scan**"
      ],
      "metadata": {
        "id": "t76GeP4j3RX9"
      }
    },
    {
      "cell_type": "code",
      "source": [
        "!python scan.py subdomainlist_sorted\n",
        "!echo\n",
        "!echo \"Result Lists:\"\n",
        "!cat hosts-subdomainlist_sorted"
      ],
      "metadata": {
        "id": "m12nw_Zd5rcx"
      },
      "execution_count": null,
      "outputs": []
    }
  ]
}